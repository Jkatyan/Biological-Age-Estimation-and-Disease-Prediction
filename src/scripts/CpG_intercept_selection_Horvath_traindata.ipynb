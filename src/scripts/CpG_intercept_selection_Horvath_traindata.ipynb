{
 "cells": [
  {
   "cell_type": "markdown",
   "metadata": {},
   "source": [
    "The following script selects 513 methylation sites based on [DNA methylation age of human tissues and cell types](https://www.ncbi.nlm.nih.gov/pmc/articles/PMC4015143/) from the Kaggle Age Assessment & Disease Risk Prediction dataset."
   ]
  },
  {
   "cell_type": "code",
   "execution_count": 1,
   "metadata": {},
   "outputs": [],
   "source": [
    "import pandas as pd"
   ]
  },
  {
   "cell_type": "code",
   "execution_count": 2,
   "metadata": {},
   "outputs": [
    {
     "name": "stdout",
     "output_type": "stream",
     "text": [
      "Dataset shape: (353, 1)\n",
      "  (Intercept)\n",
      "0  cg00075967\n",
      "1  cg00374717\n",
      "2  cg00864867\n",
      "3  cg00945507\n",
      "4  cg01027739\n"
     ]
    }
   ],
   "source": [
    "# Load supplementary dataset from \"DNA methylation age of human tissues and cell types\"\n",
    "horvath_df = pd.read_csv('../../data/input/horvath.csv', skiprows=3)\n",
    "\n",
    "# Remove extra columns\n",
    "horvath_df = horvath_df.iloc[:, [0]]\n",
    "\n",
    "# Print shape\n",
    "print(\"Dataset shape:\", horvath_df.shape)\n",
    "\n",
    "# Print head\n",
    "print(horvath_df.head())"
   ]
  },
  {
   "cell_type": "code",
   "execution_count": 4,
   "metadata": {},
   "outputs": [
    {
     "name": "stdout",
     "output_type": "stream",
     "text": [
      "Dataset shape: (485512, 1)\n",
      "      cpgsite\n",
      "0  cg00050873\n",
      "1  cg00212031\n",
      "2  cg00213748\n",
      "3  cg00214611\n",
      "4  cg00455876\n"
     ]
    }
   ],
   "source": [
    "# Load traindata\n",
    "cpg_sites_df = pd.read_csv('../../data/input/cpg_sites.csv', low_memory=False)\n",
    "\n",
    "# Print shape\n",
    "print(\"Dataset shape:\", cpg_sites_df.shape)\n",
    "\n",
    "# Print head\n",
    "print(cpg_sites_df.head())"
   ]
  },
  {
   "cell_type": "code",
   "execution_count": 5,
   "metadata": {},
   "outputs": [],
   "source": [
    "# Determine indices\n",
    "indices_list = cpg_sites_df[cpg_sites_df['cpgsite'].isin(horvath_df['(Intercept)'])].index.tolist()"
   ]
  },
  {
   "cell_type": "code",
   "execution_count": 6,
   "metadata": {},
   "outputs": [
    {
     "name": "stdout",
     "output_type": "stream",
     "text": [
      "353\n",
      "[5663, 14444, 30363, 42641, 49528, 52430, 55392, 59832, 64496, 86210, 101205, 103431, 106432, 110993, 115938, 117548, 120336, 120461, 128712, 134005, 134496, 134780, 146329, 147359, 153120, 153996, 154102, 155199, 156055, 156848, 157023, 157191, 157501, 158777, 161286, 163182, 163555, 164714, 167105, 168064, 168101, 168102, 168497, 168532, 169093, 170398, 171126, 172412, 173282, 175949, 176409, 177263, 180453, 180669, 181581, 182624, 184467, 186557, 186782, 188684, 188807, 189520, 190379, 190924, 192105, 192194, 194453, 196266, 197648, 198158, 199368, 201787, 205740, 206307, 206510, 206982, 207062, 207421, 208610, 210092, 212626, 212744, 212970, 213750, 213845, 215066, 215795, 216663, 217090, 217116, 218011, 218246, 219364, 220284, 221063, 221156, 221353, 221850, 224399, 224559, 226308, 226362, 228395, 231684, 231869, 232439, 232494, 233634, 233951, 235040, 236095, 237183, 240611, 242895, 243664, 244509, 248438, 250489, 251708, 251906, 252896, 255070, 257338, 258089, 259279, 260517, 262645, 266822, 266892, 270083, 270975, 271184, 271567, 271891, 277803, 278532, 281444, 281631, 283544, 283914, 284124, 286043, 286408, 286768, 287166, 293952, 293984, 294124, 295115, 296551, 297075, 298889, 299974, 300342, 303619, 305766, 307578, 307788, 308970, 309110, 312451, 312453, 312508, 312588, 314829, 316002, 316477, 317481, 317994, 318241, 318469, 319844, 320113, 320222, 320312, 320636, 321195, 321214, 321456, 321529, 321721, 326082, 326397, 327125, 327607, 327806, 328608, 328626, 330224, 330324, 333613, 336257, 338985, 339540, 340330, 345685, 345892, 350052, 351024, 351861, 352937, 355004, 355265, 356165, 357587, 357981, 359758, 360166, 360805, 360911, 361655, 362756, 363109, 363505, 363794, 364665, 365771, 366078, 366740, 367102, 369771, 370491, 371963, 372230, 374216, 376233, 377299, 378084, 381761, 382088, 384754, 386359, 390950, 392520, 393786, 394949, 395763, 397728, 398574, 398760, 402013, 403149, 404070, 404608, 404761, 405784, 406063, 406675, 408873, 408878, 410116, 410854, 411440, 411468, 412100, 413048, 414050, 414209, 421416, 421748, 421886, 423498, 425902, 426332, 426444, 427013, 427070, 427251, 427290, 427380, 427555, 427788, 427799, 428516, 429348, 429563, 430355, 431241, 431945, 432099, 432369, 433756, 433908, 434230, 435444, 436380, 436531, 437804, 439994, 441008, 441802, 442969, 443135, 447012, 447106, 449704, 449757, 450056, 450408, 450875, 453660, 454158, 455967, 456008, 456327, 456916, 457014, 457052, 457067, 459387, 460446, 460457, 460477, 460964, 461088, 461284, 461913, 462337, 465289, 465662, 465781, 466052, 468176, 468382, 468685, 468825, 469071, 471518, 473400, 474122, 475204, 475505, 475611, 475800, 475814, 476718, 476991, 478163, 478213, 478572, 479529, 480064, 481142, 481682, 482579, 482762, 483781, 483923, 484072, 484724, 485024, 485231, 485239]\n"
     ]
    }
   ],
   "source": [
    "print(len(indices_list))\n",
    "print(indices_list)"
   ]
  },
  {
   "cell_type": "code",
   "execution_count": 7,
   "metadata": {},
   "outputs": [],
   "source": [
    "import pickle\n",
    "\n",
    "# Save to pickle file\n",
    "with open('../../data/output/indices_list_horvath.pkl', 'wb') as f:\n",
    "    pickle.dump(indices_list, f)"
   ]
  }
 ],
 "metadata": {
  "kernelspec": {
   "display_name": "ml",
   "language": "python",
   "name": "python3"
  },
  "language_info": {
   "codemirror_mode": {
    "name": "ipython",
    "version": 3
   },
   "file_extension": ".py",
   "mimetype": "text/x-python",
   "name": "python",
   "nbconvert_exporter": "python",
   "pygments_lexer": "ipython3",
   "version": "3.11.5"
  }
 },
 "nbformat": 4,
 "nbformat_minor": 2
}
