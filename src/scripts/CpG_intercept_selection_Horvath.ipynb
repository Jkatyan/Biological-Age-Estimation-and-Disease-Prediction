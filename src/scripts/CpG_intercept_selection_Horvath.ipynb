{
 "cells": [
  {
   "cell_type": "markdown",
   "metadata": {},
   "source": [
    "The following script selects 513 methylation sites based on [DNA methylation age of human tissues and cell types](https://www.ncbi.nlm.nih.gov/pmc/articles/PMC4015143/) from the Infinium HumanMethylation450K human methylation dataset."
   ]
  },
  {
   "cell_type": "code",
   "execution_count": 1,
   "metadata": {},
   "outputs": [],
   "source": [
    "import pandas as pd"
   ]
  },
  {
   "cell_type": "code",
   "execution_count": 3,
   "metadata": {},
   "outputs": [
    {
     "name": "stdout",
     "output_type": "stream",
     "text": [
      "Dataset shape: (353, 1)\n",
      "  (Intercept)\n",
      "0  cg00075967\n",
      "1  cg00374717\n",
      "2  cg00864867\n",
      "3  cg00945507\n",
      "4  cg01027739\n"
     ]
    }
   ],
   "source": [
    "# Load supplementary dataset from \"DNA methylation age of human tissues and cell types\"\n",
    "horvath_df = pd.read_csv('../../data/input/horvath.csv', skiprows=3)\n",
    "\n",
    "# Remove extra columns\n",
    "horvath_df = horvath_df.iloc[:, [0]]\n",
    "\n",
    "# Print shape\n",
    "print(\"Dataset shape:\", horvath_df.shape)\n",
    "\n",
    "# Print head\n",
    "print(horvath_df.head())"
   ]
  },
  {
   "cell_type": "code",
   "execution_count": 4,
   "metadata": {},
   "outputs": [
    {
     "name": "stdout",
     "output_type": "stream",
     "text": [
      "Dataset shape: (485512, 2)\n",
      "         Name Coordinate_36\n",
      "0  cg00035864       8613009\n",
      "1  cg00050873       9973356\n",
      "2  cg00061679      23723559\n",
      "3  cg00063477      21151183\n",
      "4  cg00121626      20123684\n"
     ]
    }
   ],
   "source": [
    "# Load Infinium HumanMethylation450K human methylation dataset.\n",
    "infinium_df = pd.read_csv('../../data/input/humanmethylation.csv', skiprows=7, low_memory=False)\n",
    "\n",
    "# Remove extra columns\n",
    "infinium_df = infinium_df.iloc[:, [1, 15]]\n",
    "\n",
    "# Remove control data\n",
    "infinium_df = infinium_df.iloc[:-916]\n",
    "\n",
    "# Print shape\n",
    "print(\"Dataset shape:\", infinium_df.shape)\n",
    "\n",
    "# Print head\n",
    "print(infinium_df.head())"
   ]
  },
  {
   "cell_type": "code",
   "execution_count": 5,
   "metadata": {},
   "outputs": [],
   "source": [
    "# Determine indices\n",
    "indices_list = infinium_df[infinium_df['Name'].isin(horvath_df['(Intercept)'])].index.tolist()"
   ]
  },
  {
   "cell_type": "code",
   "execution_count": 6,
   "metadata": {},
   "outputs": [
    {
     "name": "stdout",
     "output_type": "stream",
     "text": [
      "353\n",
      "[14759, 16069, 21881, 23857, 25045, 25201, 26698, 27862, 28972, 29194, 29425, 29887, 31616, 35099, 37711, 38218, 39873, 43272, 44616, 44661, 44662, 45218, 45266, 46080, 47864, 48863, 50643, 51872, 53071, 55695, 56356, 57539, 61573, 61853, 63032, 64398, 66887, 69673, 70005, 72596, 72759, 73748, 74891, 75642, 77286, 77420, 80571, 83055, 84976, 85685, 87352, 90761, 95845, 96597, 96859, 97489, 97592, 98072, 99657, 101606, 105054, 105209, 105522, 106562, 106685, 108291, 109291, 110501, 111071, 111104, 112328, 112633, 114124, 114623, 115404, 116437, 116567, 116835, 117527, 120823, 121041, 123415, 123486, 126267, 130883, 131143, 131951, 132023, 133625, 134073, 135578, 137055, 138571, 142976, 146039, 147092, 148246, 153652, 156460, 158129, 158404, 159771, 160843, 162789, 165685, 166651, 168184, 169879, 172685, 178374, 178482, 182842, 184070, 184343, 184852, 185282, 187731, 193373, 194365, 198330, 198579, 198608, 201114, 201597, 201877, 204453, 204944, 205438, 205972, 209814, 215544, 215591, 215806, 217183, 219200, 219959, 222573, 224114, 224631, 224853, 229313, 232071, 234462, 234742, 236322, 236505, 241109, 241113, 241191, 241302, 242376, 244383, 246019, 246721, 248100, 248797, 249134, 249447, 251197, 251475, 251587, 251684, 252027, 252604, 252624, 252887, 252963, 253170, 259093, 259433, 260313, 260859, 261139, 262262, 262280, 264491, 264626, 269144, 272842, 276721, 277511, 278612, 285947, 286216, 292044, 293423, 294594, 296104, 299068, 299433, 300718, 302733, 303281, 305792, 306380, 307282, 307427, 308478, 310060, 310576, 311127, 311555, 312803, 314303, 314746, 315641, 316136, 319794, 320767, 322428, 322792, 323162, 325953, 328804, 330302, 331412, 336571, 337024, 340687, 342842, 349125, 351229, 352933, 354489, 355618, 358302, 359486, 359722, 364308, 365844, 367045, 367748, 367963, 369335, 369704, 370531, 373537, 373544, 375211, 376218, 377016, 377057, 377598, 377936, 379253, 380599, 380811, 384984, 391631, 392150, 392361, 393648, 394912, 398576, 399044, 399165, 400008, 400075, 400276, 400320, 400410, 400607, 400861, 400872, 401920, 403143, 403428, 404524, 405775, 406788, 407008, 407378, 409054, 409375, 409589, 410063, 411736, 413063, 413285, 415197, 418351, 419832, 421050, 422814, 423056, 424702, 428961, 429110, 429320, 432701, 432756, 433191, 433716, 434423, 438470, 438722, 439135, 439148, 441804, 441859, 442299, 443141, 443259, 443305, 443324, 446844, 448451, 448463, 448486, 449254, 449456, 449753, 450747, 451431, 455918, 456500, 456692, 457132, 460579, 460889, 461361, 461579, 461972, 463362, 465280, 468050, 469148, 470778, 471229, 471405, 471688, 471712, 473002, 473355, 474948, 475013, 475532, 476919, 477602, 479075, 479851, 481024, 481158, 481416, 482552, 482884, 483099, 483326, 483473, 484314, 484776, 485115, 485125]\n"
     ]
    }
   ],
   "source": [
    "print(len(indices_list))\n",
    "print(indices_list)"
   ]
  },
  {
   "cell_type": "code",
   "execution_count": null,
   "metadata": {},
   "outputs": [],
   "source": [
    "import pickle\n",
    "\n",
    "# Save to pickle file\n",
    "with open('../../data/output/indices_list_horvath.pkl', 'wb') as f:\n",
    "    pickle.dump(indices_list, f)"
   ]
  }
 ],
 "metadata": {
  "kernelspec": {
   "display_name": "ml",
   "language": "python",
   "name": "python3"
  },
  "language_info": {
   "codemirror_mode": {
    "name": "ipython",
    "version": 3
   },
   "file_extension": ".py",
   "mimetype": "text/x-python",
   "name": "python",
   "nbconvert_exporter": "python",
   "pygments_lexer": "ipython3",
   "version": "3.11.5"
  }
 },
 "nbformat": 4,
 "nbformat_minor": 2
}
