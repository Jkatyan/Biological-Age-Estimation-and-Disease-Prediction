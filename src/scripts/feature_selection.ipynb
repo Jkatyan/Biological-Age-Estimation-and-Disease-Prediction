{
 "cells": [
  {
   "cell_type": "code",
   "execution_count": 1,
   "metadata": {},
   "outputs": [],
   "source": [
    "# Set paths\n",
    "idmap_train_dir = '../../data/input/trainmap.csv'\n",
    "methy_train_dir = '../../data/input/traindata.csv'\n",
    "idmap_test_dir = '../../data/input/testmap.csv'\n",
    "methy_test_dir = '../../data/input/testdata.csv'\n",
    "output_dir = \"../../data/output/\""
   ]
  },
  {
   "cell_type": "code",
   "execution_count": 2,
   "metadata": {},
   "outputs": [],
   "source": [
    "import numpy as np\n",
    "import pandas as pd\n",
    "import h5py\n",
    "\n",
    "# Load idmap data from .csv file\n",
    "def load_idmap_csv(file):\n",
    "    sample_type_mapping = {'control': 0, 'disease tissue': 1}\n",
    "    \n",
    "    idmap = pd.read_csv(file, sep=',')\n",
    "    age = idmap.age.to_numpy()\n",
    "    age = age.astype(np.float32)\n",
    "    sample_type = idmap.sample_type.replace(sample_type_mapping)\n",
    "    \n",
    "    return age, sample_type\n",
    "\n",
    "# Load methylation data from .h5 file. \n",
    "def load_methylation_h5(file, rows=None):\n",
    "    methylation = h5py.File(file, 'r')['data']\n",
    "    h5py.File(file, 'r').close()\n",
    "\n",
    "    if rows != None:\n",
    "        return methylation[:, :rows]\n",
    "    else:\n",
    "        return methylation[:, :]"
   ]
  },
  {
   "cell_type": "code",
   "execution_count": 3,
   "metadata": {},
   "outputs": [
    {
     "name": "stdout",
     "output_type": "stream",
     "text": [
      "ID map loaded.\n",
      "age_train shape: (5000,)\n",
      "age_test shape: (3233,)\n",
      "sample_train shape: (5000,)\n",
      "sample_test shape: (3233,)\n",
      "\n",
      "Methylation data loaded.\n",
      "methylation_train shape: (5000, 20000)\n",
      "methylation_test shape: (3233, 20000)\n"
     ]
    }
   ],
   "source": [
    "# Load idmap\n",
    "age, sample_type = load_idmap_csv(idmap_train_dir)\n",
    "print(\"ID map loaded.\")\n",
    "\n",
    "age_train = age[:5000]\n",
    "age_test = age[5000:]\n",
    "\n",
    "print(\"age_train shape:\", age_train.shape)\n",
    "print(\"age_test shape:\",age_test.shape)\n",
    "\n",
    "sample_train = sample_type[:5000]\n",
    "sample_test = sample_type[5000:]\n",
    "\n",
    "print(\"sample_train shape:\", sample_train.shape)\n",
    "print(\"sample_test shape:\",sample_test.shape)\n",
    "\n",
    "# Load methylation data\n",
    "methylation_data = load_methylation_h5('../../data/input/train.h5', rows=20000)\n",
    "print(\"\\nMethylation data loaded.\")\n",
    "\n",
    "train_data = methylation_data[:5000]\n",
    "test_data = methylation_data[5000:]\n",
    "\n",
    "print(\"methylation_train shape:\", train_data.shape)\n",
    "print(\"methylation_test shape:\", test_data.shape)"
   ]
  },
  {
   "cell_type": "code",
   "execution_count": 4,
   "metadata": {},
   "outputs": [],
   "source": [
    "from sklearn.model_selection import train_test_split\n",
    "import random\n",
    "\n",
    "random.seed(42)\n",
    "\n",
    "# Split data into training and validation sets\n",
    "indices = np.arange(sample_train.shape[0])\n",
    "[indices_train, indices_valid, age_train, age_valid] = train_test_split(indices, age_train, test_size=0.3, shuffle=True)\n",
    "\n",
    "methylation_train = train_data[indices_train]\n",
    "methylation_valid = train_data[indices_valid]\n",
    "\n",
    "sample_type_train = sample_train[indices_train]\n",
    "sample_type_valid = sample_train[indices_valid]\n",
    "\n",
    "feature_size = methylation_train.shape[1]"
   ]
  },
  {
   "cell_type": "code",
   "execution_count": 13,
   "metadata": {},
   "outputs": [],
   "source": [
    "from sklearn.feature_selection import RFE\n",
    "from sklearn.linear_model import LinearRegression\n",
    "\n",
    "# Create RFE model\n",
    "def train_selector(X_train, y_train, num_features):\n",
    "    model = LinearRegression()\n",
    "    selector = RFE(model, n_features_to_select=num_features)\n",
    "    selector = selector.fit(X_train, y_train)\n",
    "\n",
    "    return model, selector\n",
    "\n",
    "\n",
    "# Train model\n",
    "def train_model(X_train, y_train, model):\n",
    "    model.fit(X_train, y_train)\n",
    "    return model\n",
    "\n",
    "\n",
    "# Evaluate model\n",
    "def evaluate_ml(y_true, y_pred, sample_type):\n",
    "    mae_control = np.mean(\n",
    "        np.abs(y_true[sample_type == 0] - y_pred[sample_type == 0]))\n",
    "\n",
    "    case_true = y_true[sample_type == 1]\n",
    "    case_pred = y_pred[sample_type == 1]\n",
    "    above = np.where(case_pred >= case_true)\n",
    "    below = np.where(case_pred < case_true)\n",
    "\n",
    "    ae_above = np.sum(np.abs(case_true[above] - case_pred[above])) / 2\n",
    "    ae_below = np.sum(np.abs(case_true[below] - case_pred[below]))\n",
    "    mae_case = (ae_above + ae_below) / len(case_true)\n",
    "\n",
    "    mae = np.mean([mae_control, mae_case])\n",
    "    return mae, mae_control, mae_case\n"
   ]
  },
  {
   "cell_type": "code",
   "execution_count": 15,
   "metadata": {},
   "outputs": [
    {
     "ename": "KeyboardInterrupt",
     "evalue": "",
     "output_type": "error",
     "traceback": [
      "\u001b[0;31m---------------------------------------------------------------------------\u001b[0m",
      "\u001b[0;31mKeyboardInterrupt\u001b[0m                         Traceback (most recent call last)",
      "\u001b[1;32m/Users/jkatyan/Documents/python/cs4824_project/src/scripts/feature_selection.ipynb Cell 6\u001b[0m line \u001b[0;36m2\n\u001b[1;32m      <a href='vscode-notebook-cell:/Users/jkatyan/Documents/python/cs4824_project/src/scripts/feature_selection.ipynb#W5sZmlsZQ%3D%3D?line=0'>1</a>\u001b[0m \u001b[39m# Train selector\u001b[39;00m\n\u001b[0;32m----> <a href='vscode-notebook-cell:/Users/jkatyan/Documents/python/cs4824_project/src/scripts/feature_selection.ipynb#W5sZmlsZQ%3D%3D?line=1'>2</a>\u001b[0m model, selector \u001b[39m=\u001b[39m train_selector(methylation_train, age_train, \u001b[39m19800\u001b[39;49m)\n",
      "\u001b[1;32m/Users/jkatyan/Documents/python/cs4824_project/src/scripts/feature_selection.ipynb Cell 6\u001b[0m line \u001b[0;36m8\n\u001b[1;32m      <a href='vscode-notebook-cell:/Users/jkatyan/Documents/python/cs4824_project/src/scripts/feature_selection.ipynb#W5sZmlsZQ%3D%3D?line=5'>6</a>\u001b[0m model \u001b[39m=\u001b[39m LinearRegression()\n\u001b[1;32m      <a href='vscode-notebook-cell:/Users/jkatyan/Documents/python/cs4824_project/src/scripts/feature_selection.ipynb#W5sZmlsZQ%3D%3D?line=6'>7</a>\u001b[0m selector \u001b[39m=\u001b[39m RFE(model, n_features_to_select\u001b[39m=\u001b[39mnum_features)\n\u001b[0;32m----> <a href='vscode-notebook-cell:/Users/jkatyan/Documents/python/cs4824_project/src/scripts/feature_selection.ipynb#W5sZmlsZQ%3D%3D?line=7'>8</a>\u001b[0m selector \u001b[39m=\u001b[39m selector\u001b[39m.\u001b[39;49mfit(X_train, y_train)\n\u001b[1;32m     <a href='vscode-notebook-cell:/Users/jkatyan/Documents/python/cs4824_project/src/scripts/feature_selection.ipynb#W5sZmlsZQ%3D%3D?line=9'>10</a>\u001b[0m \u001b[39mreturn\u001b[39;00m model, selector\n",
      "File \u001b[0;32m~/Documents/conda/miniconda3/envs/ml/lib/python3.11/site-packages/sklearn/base.py:1152\u001b[0m, in \u001b[0;36m_fit_context.<locals>.decorator.<locals>.wrapper\u001b[0;34m(estimator, *args, **kwargs)\u001b[0m\n\u001b[1;32m   1145\u001b[0m     estimator\u001b[39m.\u001b[39m_validate_params()\n\u001b[1;32m   1147\u001b[0m \u001b[39mwith\u001b[39;00m config_context(\n\u001b[1;32m   1148\u001b[0m     skip_parameter_validation\u001b[39m=\u001b[39m(\n\u001b[1;32m   1149\u001b[0m         prefer_skip_nested_validation \u001b[39mor\u001b[39;00m global_skip_validation\n\u001b[1;32m   1150\u001b[0m     )\n\u001b[1;32m   1151\u001b[0m ):\n\u001b[0;32m-> 1152\u001b[0m     \u001b[39mreturn\u001b[39;00m fit_method(estimator, \u001b[39m*\u001b[39;49margs, \u001b[39m*\u001b[39;49m\u001b[39m*\u001b[39;49mkwargs)\n",
      "File \u001b[0;32m~/Documents/conda/miniconda3/envs/ml/lib/python3.11/site-packages/sklearn/feature_selection/_rfe.py:249\u001b[0m, in \u001b[0;36mRFE.fit\u001b[0;34m(self, X, y, **fit_params)\u001b[0m\n\u001b[1;32m    225\u001b[0m \u001b[39m@_fit_context\u001b[39m(\n\u001b[1;32m    226\u001b[0m     \u001b[39m# RFE.estimator is not validated yet\u001b[39;00m\n\u001b[1;32m    227\u001b[0m     prefer_skip_nested_validation\u001b[39m=\u001b[39m\u001b[39mFalse\u001b[39;00m\n\u001b[1;32m    228\u001b[0m )\n\u001b[1;32m    229\u001b[0m \u001b[39mdef\u001b[39;00m \u001b[39mfit\u001b[39m(\u001b[39mself\u001b[39m, X, y, \u001b[39m*\u001b[39m\u001b[39m*\u001b[39mfit_params):\n\u001b[1;32m    230\u001b[0m \u001b[39m    \u001b[39m\u001b[39m\"\"\"Fit the RFE model and then the underlying estimator on the selected features.\u001b[39;00m\n\u001b[1;32m    231\u001b[0m \n\u001b[1;32m    232\u001b[0m \u001b[39m    Parameters\u001b[39;00m\n\u001b[0;32m   (...)\u001b[0m\n\u001b[1;32m    247\u001b[0m \u001b[39m        Fitted estimator.\u001b[39;00m\n\u001b[1;32m    248\u001b[0m \u001b[39m    \"\"\"\u001b[39;00m\n\u001b[0;32m--> 249\u001b[0m     \u001b[39mreturn\u001b[39;00m \u001b[39mself\u001b[39;49m\u001b[39m.\u001b[39;49m_fit(X, y, \u001b[39m*\u001b[39;49m\u001b[39m*\u001b[39;49mfit_params)\n",
      "File \u001b[0;32m~/Documents/conda/miniconda3/envs/ml/lib/python3.11/site-packages/sklearn/feature_selection/_rfe.py:297\u001b[0m, in \u001b[0;36mRFE._fit\u001b[0;34m(self, X, y, step_score, **fit_params)\u001b[0m\n\u001b[1;32m    294\u001b[0m \u001b[39mif\u001b[39;00m \u001b[39mself\u001b[39m\u001b[39m.\u001b[39mverbose \u001b[39m>\u001b[39m \u001b[39m0\u001b[39m:\n\u001b[1;32m    295\u001b[0m     \u001b[39mprint\u001b[39m(\u001b[39m\"\u001b[39m\u001b[39mFitting estimator with \u001b[39m\u001b[39m%d\u001b[39;00m\u001b[39m features.\u001b[39m\u001b[39m\"\u001b[39m \u001b[39m%\u001b[39m np\u001b[39m.\u001b[39msum(support_))\n\u001b[0;32m--> 297\u001b[0m estimator\u001b[39m.\u001b[39;49mfit(X[:, features], y, \u001b[39m*\u001b[39;49m\u001b[39m*\u001b[39;49mfit_params)\n\u001b[1;32m    299\u001b[0m \u001b[39m# Get importance and rank them\u001b[39;00m\n\u001b[1;32m    300\u001b[0m importances \u001b[39m=\u001b[39m _get_feature_importances(\n\u001b[1;32m    301\u001b[0m     estimator,\n\u001b[1;32m    302\u001b[0m     \u001b[39mself\u001b[39m\u001b[39m.\u001b[39mimportance_getter,\n\u001b[1;32m    303\u001b[0m     transform_func\u001b[39m=\u001b[39m\u001b[39m\"\u001b[39m\u001b[39msquare\u001b[39m\u001b[39m\"\u001b[39m,\n\u001b[1;32m    304\u001b[0m )\n",
      "File \u001b[0;32m~/Documents/conda/miniconda3/envs/ml/lib/python3.11/site-packages/sklearn/base.py:1152\u001b[0m, in \u001b[0;36m_fit_context.<locals>.decorator.<locals>.wrapper\u001b[0;34m(estimator, *args, **kwargs)\u001b[0m\n\u001b[1;32m   1145\u001b[0m     estimator\u001b[39m.\u001b[39m_validate_params()\n\u001b[1;32m   1147\u001b[0m \u001b[39mwith\u001b[39;00m config_context(\n\u001b[1;32m   1148\u001b[0m     skip_parameter_validation\u001b[39m=\u001b[39m(\n\u001b[1;32m   1149\u001b[0m         prefer_skip_nested_validation \u001b[39mor\u001b[39;00m global_skip_validation\n\u001b[1;32m   1150\u001b[0m     )\n\u001b[1;32m   1151\u001b[0m ):\n\u001b[0;32m-> 1152\u001b[0m     \u001b[39mreturn\u001b[39;00m fit_method(estimator, \u001b[39m*\u001b[39;49margs, \u001b[39m*\u001b[39;49m\u001b[39m*\u001b[39;49mkwargs)\n",
      "File \u001b[0;32m~/Documents/conda/miniconda3/envs/ml/lib/python3.11/site-packages/sklearn/linear_model/_base.py:751\u001b[0m, in \u001b[0;36mLinearRegression.fit\u001b[0;34m(self, X, y, sample_weight)\u001b[0m\n\u001b[1;32m    749\u001b[0m         \u001b[39mself\u001b[39m\u001b[39m.\u001b[39mcoef_ \u001b[39m=\u001b[39m np\u001b[39m.\u001b[39mvstack([out[\u001b[39m0\u001b[39m] \u001b[39mfor\u001b[39;00m out \u001b[39min\u001b[39;00m outs])\n\u001b[1;32m    750\u001b[0m \u001b[39melse\u001b[39;00m:\n\u001b[0;32m--> 751\u001b[0m     \u001b[39mself\u001b[39m\u001b[39m.\u001b[39mcoef_, _, \u001b[39mself\u001b[39m\u001b[39m.\u001b[39mrank_, \u001b[39mself\u001b[39m\u001b[39m.\u001b[39msingular_ \u001b[39m=\u001b[39m linalg\u001b[39m.\u001b[39;49mlstsq(X, y)\n\u001b[1;32m    752\u001b[0m     \u001b[39mself\u001b[39m\u001b[39m.\u001b[39mcoef_ \u001b[39m=\u001b[39m \u001b[39mself\u001b[39m\u001b[39m.\u001b[39mcoef_\u001b[39m.\u001b[39mT\n\u001b[1;32m    754\u001b[0m \u001b[39mif\u001b[39;00m y\u001b[39m.\u001b[39mndim \u001b[39m==\u001b[39m \u001b[39m1\u001b[39m:\n",
      "File \u001b[0;32m~/Documents/conda/miniconda3/envs/ml/lib/python3.11/site-packages/scipy/linalg/_basic.py:1282\u001b[0m, in \u001b[0;36mlstsq\u001b[0;34m(a, b, cond, overwrite_a, overwrite_b, check_finite, lapack_driver)\u001b[0m\n\u001b[1;32m   1280\u001b[0m \u001b[39mif\u001b[39;00m real_data:\n\u001b[1;32m   1281\u001b[0m     lwork, iwork \u001b[39m=\u001b[39m _compute_lwork(lapack_lwork, m, n, nrhs, cond)\n\u001b[0;32m-> 1282\u001b[0m     x, s, rank, info \u001b[39m=\u001b[39m lapack_func(a1, b1, lwork,\n\u001b[1;32m   1283\u001b[0m                                    iwork, cond, \u001b[39mFalse\u001b[39;49;00m, \u001b[39mFalse\u001b[39;49;00m)\n\u001b[1;32m   1284\u001b[0m \u001b[39melse\u001b[39;00m:  \u001b[39m# complex data\u001b[39;00m\n\u001b[1;32m   1285\u001b[0m     lwork, rwork, iwork \u001b[39m=\u001b[39m _compute_lwork(lapack_lwork, m, n,\n\u001b[1;32m   1286\u001b[0m                                          nrhs, cond)\n",
      "\u001b[0;31mKeyboardInterrupt\u001b[0m: "
     ]
    }
   ],
   "source": [
    "# Train selector\n",
    "model, selector = train_selector(methylation_train, age_train, 19800)"
   ]
  },
  {
   "cell_type": "code",
   "execution_count": null,
   "metadata": {},
   "outputs": [],
   "source": [
    "import pickle\n",
    "\n",
    "# Save selected features to file\n",
    "with open('../../data/output/selected_features.pkl', 'wb') as file:\n",
    "    pickle.dump(selector.support_, file)"
   ]
  },
  {
   "cell_type": "code",
   "execution_count": null,
   "metadata": {},
   "outputs": [],
   "source": [
    "# Train model\n",
    "pred_model = train_model(selector.transform(methylation_train), age_train, model)"
   ]
  },
  {
   "cell_type": "code",
   "execution_count": null,
   "metadata": {},
   "outputs": [],
   "source": [
    "# Evaluate model\n",
    "age_test_pred = pred_model.predict(test_data)\n",
    "age_test_eval = evaluate_ml(age_test, age_test_pred, sample_test)\n",
    "print(f'Test MAE: {age_test_eval}')"
   ]
  }
 ],
 "metadata": {
  "kernelspec": {
   "display_name": "ml",
   "language": "python",
   "name": "python3"
  },
  "language_info": {
   "codemirror_mode": {
    "name": "ipython",
    "version": 3
   },
   "file_extension": ".py",
   "mimetype": "text/x-python",
   "name": "python",
   "nbconvert_exporter": "python",
   "pygments_lexer": "ipython3",
   "version": "3.11.5"
  }
 },
 "nbformat": 4,
 "nbformat_minor": 2
}
